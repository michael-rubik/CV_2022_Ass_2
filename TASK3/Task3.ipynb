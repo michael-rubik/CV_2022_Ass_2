{
 "cells": [
  {
   "cell_type": "markdown",
   "metadata": {},
   "source": [
    "## TASK 3 - Scene recognition with Bag of Visual Words\n",
    "\n",
    "Group Number: #INSERT HERE\n",
    "\n",
    "\n",
    "### 1 Data import and Preparation\n",
    "\n",
    "Complete the class ***SceneDataset*** in ***dataset.py*** and load the training and test dataset. (images and class labels)"
   ]
  },
  {
   "cell_type": "code",
   "execution_count": 16,
   "metadata": {},
   "outputs": [
    {
     "name": "stdout",
     "output_type": "stream",
     "text": [
      "The autoreload extension is already loaded. To reload it, use:\n",
      "  %reload_ext autoreload\n"
     ]
    }
   ],
   "source": [
    "%load_ext autoreload\n",
    "%autoreload 1\n",
    "%aimport features, dataset, utils\n",
    "from sklearn.neighbors import KNeighborsClassifier\n",
    "from sklearn.cluster import KMeans\n",
    "import numpy as np\n",
    "import features\n",
    "import dataset\n",
    "import utils\n",
    "import os"
   ]
  },
  {
   "cell_type": "code",
   "execution_count": 43,
   "metadata": {},
   "outputs": [
    {
     "name": "stdout",
     "output_type": "stream",
     "text": [
      "Imported test data:  400\n",
      "Imported training data:  1600\n",
      "['forest', 'bedroom', 'office', 'coast', 'tallbuilding', 'street', 'livingroom', 'mountain', 'kitchen', 'store']\n"
     ]
    }
   ],
   "source": [
    "if not os.path.exists(os.path.join(os.getcwd(), 'results')):\n",
    "    os.makedirs(os.path.join(os.getcwd(), 'results'))\n",
    "\n",
    "#student_code start\n",
    "train_path = \"./data/scene/train/\"\n",
    "test_path =  \"./data/scene/test/\"\n",
    "train_dataset = dataset.SceneDataset(train_path)\n",
    "test_dataset = dataset.SceneDataset(test_path)\n",
    "\n",
    "train_images = train_dataset.get_data()[0]\n",
    "test_images = test_dataset.get_data()[0]\n",
    "class_names = test_dataset.get_class_names()[0]\n",
    "#student_code end\n",
    "\n",
    "print('Imported test data: ',len(test_images))\n",
    "print('Imported training data: ', len(train_images))\n",
    "print(class_names)\n"
   ]
  },
  {
   "cell_type": "markdown",
   "metadata": {},
   "source": [
    "###  2 Build Vocabulary and Clusters\n",
    "\n",
    "Extract SIFT features from the training data using ***features.extract_dsift(..)*** and then utilize the descriptors to generate visual words with ***KMeans(...).fit(...).cluster_centers_*** from ***sklearn.neighbors***. Set the sample size per image at about **100** and a step size around **5**. For cluster size, try a value around **50**. You can adapt the paramater to achieve better results. If clustering takes too long, have a look at the parameters **n_init** and **max_iter** of ***KMeans(...)***.\n",
    "\n",
    "_***HINT:***_\n",
    "***KMeans(..)*** expects the features to be a stacked 2D matrix instead of a list (np.vstack(...)).\n"
   ]
  },
  {
   "cell_type": "markdown",
   "metadata": {},
   "source": []
  },
  {
   "cell_type": "code",
   "execution_count": 18,
   "metadata": {},
   "outputs": [
    {
     "name": "stdout",
     "output_type": "stream",
     "text": [
      "DSIFT Extraction: {0.8310523749998993}  seconds\n",
      "[[94. 14. 10. ...  1.  2.  3.]\n",
      " [ 0.  4. 11. ...  0.  0.  0.]\n",
      " [ 0. 18. 54. ... 51. 37. 55.]\n",
      " ...\n",
      " [ 5.  7.  1. ...  1.  1.  2.]\n",
      " [ 2.  7.  9. ... 13.  7. 19.]\n",
      " [ 1. 12.  8. ... 43. 32. 13.]]\n",
      "[ 6.776844   5.924898   8.596827   6.1105423  7.07407    5.714163\n",
      "  8.457689   5.948659   7.3187885  6.4080906  9.991499   5.992964\n",
      "  5.8724327  6.7144804 12.278759   7.97869    6.5391846  5.842781\n",
      "  9.641598   5.706009   6.596201   7.6733704 12.110531   7.13818\n",
      "  6.3712397  4.82821    7.8005123  4.681203   5.822544   5.7406883\n",
      "  7.998596   5.184211  25.071552  15.2221155 17.255028  12.430039\n",
      " 16.637997  17.65532   28.910038  27.025856  26.797363  13.5327\n",
      " 15.616291  11.595512  16.40556   26.733974  51.749218  40.127495\n",
      " 16.678028  10.936167  15.574501  13.463007  23.596872  37.22068\n",
      " 50.36841   26.635841  13.542675   9.462254  14.567482  12.0170355\n",
      " 20.514345  23.385756  26.651443  14.19092   60.199753  28.397444\n",
      " 23.537346  19.233112  28.067303  30.016983  49.30429   61.77465\n",
      " 66.14703   27.766212  20.603983  19.653206  34.36274   50.097767\n",
      " 83.35092   83.93585   32.992218  17.988684  21.61569   29.363111\n",
      " 60.74272   77.05664   80.95808   49.482132  23.584845  15.445985\n",
      " 21.923452  25.644009  50.571823  52.57852   45.73929   26.129631\n",
      " 66.13117   31.894089  23.209352  18.472912  28.518946  23.110527\n",
      " 34.6805    50.878113  72.43954   40.40847   32.76549   28.178547\n",
      " 38.789177  33.02018   44.901176  58.711548  35.644707  25.562864\n",
      " 33.44066   42.226734  69.59983   54.656982  44.252613  32.06306\n",
      " 24.574226  16.044636  22.987955  30.004951  57.443115  43.336563\n",
      " 31.546562  21.33654  ]\n"
     ]
    }
   ],
   "source": [
    "#student code start\n",
    "train_descriptors_1 = np.array(features.extract_dsift(train_images, stepsize=5, num_samples=100))\n",
    "print(train_descriptors_1[0])\n",
    "train_clusters = KMeans(n_clusters=50).fit(np.vstack(train_descriptors_1)).cluster_centers_\n",
    "print(train_clusters[0])\n",
    "#student code end"
   ]
  },
  {
   "cell_type": "markdown",
   "metadata": {},
   "source": [
    "###  3 Classification\n",
    "\n",
    "Generate a histogram per image using the centroids. First extract the dense SIFT features of the training set again. This time use a smaller stepsize (eg. 1 or 2) and take all samples.\n",
    "\n",
    "After, implement ***count_visual_words(..)*** in ***features.py*** to obtain a histogram per image. Build a kNN classifier with ***KNeighborsClassifier(..)*** and fit the the model with the histogram data of the training images and training labels. Set the neighbourhood size to **3**.\n"
   ]
  },
  {
   "cell_type": "code",
   "execution_count": 33,
   "metadata": {},
   "outputs": [
    {
     "name": "stdout",
     "output_type": "stream",
     "text": [
      "DSIFT Extraction: {3.536035042000094}  seconds\n",
      "Counting visual words: {18.060007499999756}  seconds\n"
     ]
    },
    {
     "data": {
      "text/plain": [
       "KNeighborsClassifier(n_neighbors=3)"
      ]
     },
     "execution_count": 33,
     "metadata": {},
     "output_type": "execute_result"
    }
   ],
   "source": [
    "#student code start\n",
    "train_descriptors_2 = np.array(features.extract_dsift(train_images, stepsize=2))\n",
    "train_histograms = features.count_visual_words(train_descriptors_2, train_clusters)\n",
    "\n",
    "neigh = KNeighborsClassifier(n_neighbors=3)\n",
    "neigh.fit(train_histograms, train_dataset.get_data()[1])\n",
    "#student code end"
   ]
  },
  {
   "cell_type": "markdown",
   "metadata": {},
   "source": [
    "### 4 Evaluation\n",
    "\n",
    "Examine the accuracy of your model by extracting the dense SIFT points of the test set with the same stepsize as before, generate the histogams and predict the labels of the test set with the previously fitted classifier. Plot your results with ***utils.plot_confusion_matrix(..)***.\n",
    "\n",
    "_***HINT:***_\n",
    "Use the methods ***predict(..)*** and ***score(..)*** on the KNN classifier.\n",
    "\n",
    "\n",
    "***Submission:*** Save the confusion matrix with the KNN score as **task3_accuracy_test_data.png** using ***utils.plot_confusion_matrix(..)***.\n",
    "\n"
   ]
  },
  {
   "cell_type": "code",
   "execution_count": 47,
   "metadata": {},
   "outputs": [
    {
     "name": "stdout",
     "output_type": "stream",
     "text": [
      "DSIFT Extraction: {0.6959139580003466}  seconds\n",
      "Counting visual words: {4.101518125000439}  seconds\n"
     ]
    },
    {
     "data": {
      "image/png": "[encoded data removed]",
      "text/plain": [
       "<Figure size 640x480 with 1 Axes>"
      ]
     },
     "metadata": {},
     "output_type": "display_data"
    }
   ],
   "source": [
    "#student code start\n",
    "test_descriptors = np.array(features.extract_dsift(test_images, stepsize=2))\n",
    "test_histograms = features.count_visual_words(test_descriptors, train_clusters)\n",
    "\n",
    "test_label_predictions = neigh.predict(test_histograms)\n",
    "test_label_scores = neigh.score(test_histograms, test_dataset.get_data()[1])\n",
    "\n",
    "utils.plot_confusion_matrix(test_dataset.get_data()[1], test_label_predictions, test_label_scores, class_names)\n",
    "#student code end"
   ]
  },
  {
   "cell_type": "markdown",
   "metadata": {},
   "source": [
    "***\n",
    "#### Q1: Analyze the confusion matrix. Are there classes which can be more easily identified than others. What could be the reason? What classes perform worst, and explain your answer.\n"
   ]
  },
  {
   "cell_type": "markdown",
   "metadata": {},
   "source": [
    "Forest, Coast and Tallbuilding are recognized the best, we suppose because they have unique visual-words (e.g. leafs, sea/horizon, windows). Classes which are semantically close (e.g. indoor) like bedroom, livingroom and kitchen share alot of common visual-words (e.g. chairs, tables, fabrics)."
   ]
  },
  {
   "cell_type": "markdown",
   "metadata": {},
   "source": [
    "\n",
    "Take some own test images and investigate if they can be correctly classified with you trained model. For instance, take a photo of your own kitchen or living room and classify it. You should at least test one photo from three of the ten categories. Make sure the images are resized and cropped to 100x100.\n",
    "\n",
    "***Submission:*** Save the confusion matrix with the model score as **task3_accuracy_custom_data.png** using ***utils.plot_confusion_matrix(..)***."
   ]
  },
  {
   "cell_type": "code",
   "execution_count": 62,
   "metadata": {},
   "outputs": [
    {
     "name": "stdout",
     "output_type": "stream",
     "text": [
      "DSIFT Extraction: {0.6254405419995237}  seconds\n",
      "Counting visual words: {4.095260250000138}  seconds\n"
     ]
    },
    {
     "ename": "ValueError",
     "evalue": "Found input variables with inconsistent numbers of samples: [10, 400]",
     "output_type": "error",
     "traceback": [
      "\u001b[0;31m---------------------------------------------------------------------------\u001b[0m",
      "\u001b[0;31mValueError\u001b[0m                                Traceback (most recent call last)",
      "Cell \u001b[0;32mIn[62], line 24\u001b[0m\n\u001b[1;32m     21\u001b[0m test_histograms_o \u001b[38;5;241m=\u001b[39m features\u001b[38;5;241m.\u001b[39mcount_visual_words(test_descriptors_o, train_clusters)\n\u001b[1;32m     23\u001b[0m test_label_predictions_o \u001b[38;5;241m=\u001b[39m neigh\u001b[38;5;241m.\u001b[39mpredict(test_histograms_o)\n\u001b[0;32m---> 24\u001b[0m test_label_scores_o \u001b[38;5;241m=\u001b[39m \u001b[43mneigh\u001b[49m\u001b[38;5;241;43m.\u001b[39;49m\u001b[43mscore\u001b[49m\u001b[43m(\u001b[49m\u001b[43mtest_histograms_o\u001b[49m\u001b[43m,\u001b[49m\u001b[43m \u001b[49m\u001b[43mtest_dataset_o\u001b[49m\u001b[38;5;241;43m.\u001b[39;49m\u001b[43mget_data\u001b[49m\u001b[43m(\u001b[49m\u001b[43m)\u001b[49m\u001b[43m[\u001b[49m\u001b[38;5;241;43m1\u001b[39;49m\u001b[43m]\u001b[49m\u001b[43m)\u001b[49m\n\u001b[1;32m     26\u001b[0m utils\u001b[38;5;241m.\u001b[39mplot_confusion_matrix(test_dataset_o\u001b[38;5;241m.\u001b[39mget_data()[\u001b[38;5;241m1\u001b[39m], test_label_predictions_o, test_label_scores_o, class_names_o)\n\u001b[1;32m     27\u001b[0m \u001b[38;5;66;03m#student code end\u001b[39;00m\n\u001b[1;32m     28\u001b[0m \u001b[38;5;66;03m#student_code end\u001b[39;00m\n",
      "File \u001b[0;32m~/Development/Anaconda3/anaconda3/envs/CV2022_Assignment2/lib/python3.8/site-packages/sklearn/base.py:651\u001b[0m, in \u001b[0;36mClassifierMixin.score\u001b[0;34m(self, X, y, sample_weight)\u001b[0m\n\u001b[1;32m    626\u001b[0m \u001b[38;5;250m\u001b[39m\u001b[38;5;124;03m\"\"\"\u001b[39;00m\n\u001b[1;32m    627\u001b[0m \u001b[38;5;124;03mReturn the mean accuracy on the given test data and labels.\u001b[39;00m\n\u001b[1;32m    628\u001b[0m \n\u001b[0;32m   (...)\u001b[0m\n\u001b[1;32m    647\u001b[0m \u001b[38;5;124;03m    Mean accuracy of ``self.predict(X)`` wrt. `y`.\u001b[39;00m\n\u001b[1;32m    648\u001b[0m \u001b[38;5;124;03m\"\"\"\u001b[39;00m\n\u001b[1;32m    649\u001b[0m \u001b[38;5;28;01mfrom\u001b[39;00m \u001b[38;5;21;01m.\u001b[39;00m\u001b[38;5;21;01mmetrics\u001b[39;00m \u001b[38;5;28;01mimport\u001b[39;00m accuracy_score\n\u001b[0;32m--> 651\u001b[0m \u001b[38;5;28;01mreturn\u001b[39;00m \u001b[43maccuracy_score\u001b[49m\u001b[43m(\u001b[49m\u001b[43my\u001b[49m\u001b[43m,\u001b[49m\u001b[43m \u001b[49m\u001b[38;5;28;43mself\u001b[39;49m\u001b[38;5;241;43m.\u001b[39;49m\u001b[43mpredict\u001b[49m\u001b[43m(\u001b[49m\u001b[43mX\u001b[49m\u001b[43m)\u001b[49m\u001b[43m,\u001b[49m\u001b[43m \u001b[49m\u001b[43msample_weight\u001b[49m\u001b[38;5;241;43m=\u001b[39;49m\u001b[43msample_weight\u001b[49m\u001b[43m)\u001b[49m\n",
      "File \u001b[0;32m~/Development/Anaconda3/anaconda3/envs/CV2022_Assignment2/lib/python3.8/site-packages/sklearn/metrics/_classification.py:211\u001b[0m, in \u001b[0;36maccuracy_score\u001b[0;34m(y_true, y_pred, normalize, sample_weight)\u001b[0m\n\u001b[1;32m    145\u001b[0m \u001b[38;5;250m\u001b[39m\u001b[38;5;124;03m\"\"\"Accuracy classification score.\u001b[39;00m\n\u001b[1;32m    146\u001b[0m \n\u001b[1;32m    147\u001b[0m \u001b[38;5;124;03mIn multilabel classification, this function computes subset accuracy:\u001b[39;00m\n\u001b[0;32m   (...)\u001b[0m\n\u001b[1;32m    207\u001b[0m \u001b[38;5;124;03m0.5\u001b[39;00m\n\u001b[1;32m    208\u001b[0m \u001b[38;5;124;03m\"\"\"\u001b[39;00m\n\u001b[1;32m    210\u001b[0m \u001b[38;5;66;03m# Compute accuracy for each possible representation\u001b[39;00m\n\u001b[0;32m--> 211\u001b[0m y_type, y_true, y_pred \u001b[38;5;241m=\u001b[39m \u001b[43m_check_targets\u001b[49m\u001b[43m(\u001b[49m\u001b[43my_true\u001b[49m\u001b[43m,\u001b[49m\u001b[43m \u001b[49m\u001b[43my_pred\u001b[49m\u001b[43m)\u001b[49m\n\u001b[1;32m    212\u001b[0m check_consistent_length(y_true, y_pred, sample_weight)\n\u001b[1;32m    213\u001b[0m \u001b[38;5;28;01mif\u001b[39;00m y_type\u001b[38;5;241m.\u001b[39mstartswith(\u001b[38;5;124m\"\u001b[39m\u001b[38;5;124mmultilabel\u001b[39m\u001b[38;5;124m\"\u001b[39m):\n",
      "File \u001b[0;32m~/Development/Anaconda3/anaconda3/envs/CV2022_Assignment2/lib/python3.8/site-packages/sklearn/metrics/_classification.py:84\u001b[0m, in \u001b[0;36m_check_targets\u001b[0;34m(y_true, y_pred)\u001b[0m\n\u001b[1;32m     57\u001b[0m \u001b[38;5;28;01mdef\u001b[39;00m \u001b[38;5;21m_check_targets\u001b[39m(y_true, y_pred):\n\u001b[1;32m     58\u001b[0m \u001b[38;5;250m    \u001b[39m\u001b[38;5;124;03m\"\"\"Check that y_true and y_pred belong to the same classification task.\u001b[39;00m\n\u001b[1;32m     59\u001b[0m \n\u001b[1;32m     60\u001b[0m \u001b[38;5;124;03m    This converts multiclass or binary types to a common shape, and raises a\u001b[39;00m\n\u001b[0;32m   (...)\u001b[0m\n\u001b[1;32m     82\u001b[0m \u001b[38;5;124;03m    y_pred : array or indicator matrix\u001b[39;00m\n\u001b[1;32m     83\u001b[0m \u001b[38;5;124;03m    \"\"\"\u001b[39;00m\n\u001b[0;32m---> 84\u001b[0m     \u001b[43mcheck_consistent_length\u001b[49m\u001b[43m(\u001b[49m\u001b[43my_true\u001b[49m\u001b[43m,\u001b[49m\u001b[43m \u001b[49m\u001b[43my_pred\u001b[49m\u001b[43m)\u001b[49m\n\u001b[1;32m     85\u001b[0m     type_true \u001b[38;5;241m=\u001b[39m type_of_target(y_true)\n\u001b[1;32m     86\u001b[0m     type_pred \u001b[38;5;241m=\u001b[39m type_of_target(y_pred)\n",
      "File \u001b[0;32m~/Development/Anaconda3/anaconda3/envs/CV2022_Assignment2/lib/python3.8/site-packages/sklearn/utils/validation.py:332\u001b[0m, in \u001b[0;36mcheck_consistent_length\u001b[0;34m(*arrays)\u001b[0m\n\u001b[1;32m    330\u001b[0m uniques \u001b[38;5;241m=\u001b[39m np\u001b[38;5;241m.\u001b[39munique(lengths)\n\u001b[1;32m    331\u001b[0m \u001b[38;5;28;01mif\u001b[39;00m \u001b[38;5;28mlen\u001b[39m(uniques) \u001b[38;5;241m>\u001b[39m \u001b[38;5;241m1\u001b[39m:\n\u001b[0;32m--> 332\u001b[0m     \u001b[38;5;28;01mraise\u001b[39;00m \u001b[38;5;167;01mValueError\u001b[39;00m(\n\u001b[1;32m    333\u001b[0m         \u001b[38;5;124m\"\u001b[39m\u001b[38;5;124mFound input variables with inconsistent numbers of samples: \u001b[39m\u001b[38;5;132;01m%r\u001b[39;00m\u001b[38;5;124m\"\u001b[39m\n\u001b[1;32m    334\u001b[0m         \u001b[38;5;241m%\u001b[39m [\u001b[38;5;28mint\u001b[39m(l) \u001b[38;5;28;01mfor\u001b[39;00m l \u001b[38;5;129;01min\u001b[39;00m lengths]\n\u001b[1;32m    335\u001b[0m     )\n",
      "\u001b[0;31mValueError\u001b[0m: Found input variables with inconsistent numbers of samples: [10, 400]"
     ]
    }
   ],
   "source": [
    "#student_code start\n",
    "\n",
    "import cv2\n",
    "\n",
    "# Load test dataset\n",
    "test_path =  \"./data/custom/\"\n",
    "test_dataset_o = dataset.SceneDataset(test_path)\n",
    "test_images_o = test_dataset.get_data()[0]\n",
    "class_names_o = test_dataset_o.get_class_names()\n",
    "\n",
    "# Make images square and grayscale\n",
    "square_images_o = []\n",
    "for image in test_images_o:\n",
    "    h, w = image.shape\n",
    "    s = min(h, w)\n",
    "    crop_img = image[0:s, 0:s]\n",
    "    crop_img = cv2.resize(crop_img, (100, 100), interpolation = cv2.INTER_AREA)\n",
    "    square_images_o.append(crop_img)\n",
    "    \n",
    "test_descriptors_o = np.array(features.extract_dsift(square_images_o, stepsize=2))\n",
    "test_histograms_o = features.count_visual_words(test_descriptors_o, train_clusters)\n",
    "\n",
    "test_label_predictions_o = neigh.predict(test_histograms_o)\n",
    "test_label_scores_o = neigh.score(test_histograms_o, test_dataset_o.get_data()[1])\n",
    "\n",
    "utils.plot_confusion_matrix(test_dataset_o.get_data()[1], test_label_predictions_o, test_label_scores_o, class_names_o)\n",
    "#student code end\n",
    "#student_code end"
   ]
  },
  {
   "cell_type": "code",
   "execution_count": null,
   "metadata": {},
   "outputs": [],
   "source": []
  }
 ],
 "metadata": {
  "kernelspec": {
   "display_name": "Python 3 (ipykernel)",
   "language": "python",
   "name": "python3"
  },
  "language_info": {
   "codemirror_mode": {
    "name": "ipython",
    "version": 3
   },
   "file_extension": ".py",
   "mimetype": "text/x-python",
   "name": "python",
   "nbconvert_exporter": "python",
   "pygments_lexer": "ipython3",
   "version": "3.8.15"
  },
  "vscode": {
   "interpreter": {
    "hash": "5c7b89af1651d0b8571dde13640ecdccf7d5a6204171d6ab33e7c296e100e08a"
   }
  }
 },
 "nbformat": 4,
 "nbformat_minor": 4
}
